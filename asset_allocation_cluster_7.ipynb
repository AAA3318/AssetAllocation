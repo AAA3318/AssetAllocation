{
 "cells": [
  {
   "cell_type": "markdown",
   "metadata": {},
   "source": [
    "# Read the cluster 7 symbol data"
   ]
  },
  {
   "cell_type": "code",
   "execution_count": 1,
   "metadata": {},
   "outputs": [
    {
     "name": "stdout",
     "output_type": "stream",
     "text": [
      "Loaded 19 symbols.\n"
     ]
    }
   ],
   "source": [
    "import os\n",
    "import pandas as pd\n",
    "from pypfopt import EfficientFrontier, risk_models, expected_returns\n",
    "import warnings\n",
    "\n",
    "warnings.filterwarnings(action=\"ignore\", category=FutureWarning)\n",
    "\n",
    "\n",
    "DATA_DIRECTORY = \"./data/cluster_7\"\n",
    "\n",
    "symbols = []\n",
    "symbol_dfs = {}\n",
    "\n",
    "for file in sorted(os.listdir(DATA_DIRECTORY)):\n",
    "    if file.endswith(\".csv\"):\n",
    "        symbol = file[:-4]\n",
    "        symbols.append(symbol)\n",
    "        symbol_dfs[symbol] = pd.read_csv(os.path.join(DATA_DIRECTORY, file))\n",
    "\n",
    "print(\"Loaded {} symbols.\".format(len(symbols)))\n"
   ]
  },
  {
   "cell_type": "code",
   "execution_count": 2,
   "metadata": {},
   "outputs": [],
   "source": [
    "merged_df = None\n",
    "\n",
    "# Loop over each symbol and its corresponding DataFrame\n",
    "for symbol, df in symbol_dfs.items():\n",
    "    # Select only 'time' and 'close' columns and rename 'close' to the symbol name\n",
    "    df = df[['Time', 'Close']].rename(columns={'Close': symbol})\n",
    "    \n",
    "    # If merged_df is None (first iteration), assign the current df to it\n",
    "    if merged_df is None:\n",
    "        merged_df = df\n",
    "    else:\n",
    "        # Merge the current df with the merged_df on 'time'\n",
    "        merged_df = pd.merge(merged_df, df, on='Time', how='inner')  # 'inner' keeps only common timestamps\n",
    "\n",
    "merged_df[\"Time\"] = pd.to_datetime(merged_df[\"Time\"])\n"
   ]
  },
  {
   "cell_type": "markdown",
   "metadata": {},
   "source": [
    "# Get the optimized weights"
   ]
  },
  {
   "cell_type": "code",
   "execution_count": 3,
   "metadata": {},
   "outputs": [],
   "source": [
    "def get_optimized_weights(data):\n",
    "    mu = expected_returns.mean_historical_return(data)\n",
    "    S = risk_models.sample_cov(data)\n",
    "\n",
    "    ef = EfficientFrontier(mu, S)  # Create Efficient Frontier object\n",
    "    weights = ef.max_sharpe(risk_free_rate=0)  # Get optimal weights for the maximum Sharpe ratio\n",
    "\n",
    "    cleaned_weights = ef.clean_weights()\n",
    "\n",
    "    return cleaned_weights\n"
   ]
  },
  {
   "cell_type": "markdown",
   "metadata": {},
   "source": [
    "# Calculate the time boundaries for 3 Months interval"
   ]
  },
  {
   "cell_type": "code",
   "execution_count": 4,
   "metadata": {},
   "outputs": [],
   "source": [
    "start_date = pd.Timestamp('2015-01-01')\n",
    "end_date = merged_df[\"Time\"].max() + pd.DateOffset(months=3)\n",
    "\n",
    "# Create a list of time boundaries at 3-month intervals\n",
    "time_boundaries = pd.date_range(start=start_date, end=end_date, freq='3MS')  # '3MS' for 3-month start\n",
    "\n",
    "# Convert to a list of timestamps\n",
    "time_boundaries_list = time_boundaries.to_list()"
   ]
  },
  {
   "cell_type": "markdown",
   "metadata": {},
   "source": [
    "# Calculate the weights"
   ]
  },
  {
   "cell_type": "code",
   "execution_count": 7,
   "metadata": {},
   "outputs": [],
   "source": [
    "weights_list = []\n",
    "for time_boundary in time_boundaries_list:\n",
    "    data = merged_df[merged_df[\"Time\"] <= time_boundary]\n",
    "    data.set_index(\"Time\", inplace=True)\n",
    "\n",
    "    weights = get_optimized_weights(data)\n",
    "    weights_list.append({\n",
    "        \"Timestamp\": time_boundary,\n",
    "        **weights})"
   ]
  },
  {
   "cell_type": "code",
   "execution_count": 8,
   "metadata": {},
   "outputs": [],
   "source": [
    "weights_df = pd.DataFrame(weights_list)\n",
    "\n",
    "WEIGHTS_DIRECTORY = \"./weights\"\n",
    "weights_df.to_csv(os.path.join(WEIGHTS_DIRECTORY, \"cluster_7_weights.csv\"), index=False)"
   ]
  },
  {
   "cell_type": "code",
   "execution_count": null,
   "metadata": {},
   "outputs": [],
   "source": []
  }
 ],
 "metadata": {
  "kernelspec": {
   "display_name": "venv",
   "language": "python",
   "name": "python3"
  },
  "language_info": {
   "codemirror_mode": {
    "name": "ipython",
    "version": 3
   },
   "file_extension": ".py",
   "mimetype": "text/x-python",
   "name": "python",
   "nbconvert_exporter": "python",
   "pygments_lexer": "ipython3",
   "version": "3.12.4"
  }
 },
 "nbformat": 4,
 "nbformat_minor": 2
}
